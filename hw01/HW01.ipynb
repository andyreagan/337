{
 "metadata": {
  "name": ""
 },
 "nbformat": 3,
 "nbformat_minor": 0,
 "worksheets": [
  {
   "cells": [
    {
     "cell_type": "heading",
     "level": 1,
     "metadata": {},
     "source": [
      "hw 02 - andy reagan"
     ]
    },
    {
     "cell_type": "heading",
     "level": 2,
     "metadata": {},
     "source": [
      "problem 1"
     ]
    },
    {
     "cell_type": "markdown",
     "metadata": {},
     "source": [
      "Consider the IVP $$ y' = ay, y(x_0) = y_0,$$ where $a$ is a constant. Following the lines of derivation of the global error, find how the sign of the global error depends on $y_0$ and $a$."
     ]
    },
    {
     "cell_type": "heading",
     "level": 3,
     "metadata": {},
     "source": [
      "solution"
     ]
    },
    {
     "cell_type": "markdown",
     "metadata": {},
     "source": [
      "from equation 1.4 in the notes, we have the following expression for the global error:\n",
      "$$ \\epsilon _{i+1} = \\epsilon _i + h(f(x_i,y_i)-f(x_i,Y_i))+\\frac{h^2}{2} y''(x^*_i ) .$$\n",
      "for our equation, we have $y(x) = y_0 e^{a(x-x_0)}$ and equation 1.4 becomes\n",
      "$$ \\epsilon_{i+1} = \\epsilon_i + ha(y_i - Y_i) + \\frac{h^2}{2} a^2 y_0 e^{a(x_i^*-x_0)} .$$\n",
      "noticing that by defition, $\\epsilon _i = y_i - Y_i$, we can rewrite the above as\n",
      "$$ \\epsilon_{i+1} = (1+ah) \\epsilon_i + \\frac{h^2}{2} a^2 y_0 e^{a(x_i^*-x_0)} .$$\n",
      "leaving out the terms that are always positive, we then have (assuming $1+ah>0$, and denoting sgn the sign function)\n",
      "$$ sgn(\\epsilon_{i+1}) = sgn(\\epsilon_i + y_0) .$$\n",
      "now since $\\epsilon _0$ is the local error (the last term in 1.4), the above has shown that the sign of $\\epsilon _0$ is the same as the sign of $y_0$.\n",
      "therefore, the sign of the global error follows the sign of $y_0$."
     ]
    },
    {
     "cell_type": "code",
     "collapsed": false,
     "input": [
      "from numpy import *\n",
      "\n",
      "def sign(x):\n",
      "    if x<0:\n",
      "        return 'negative'\n",
      "    else:\n",
      "        return 'positive'\n",
      "\n",
      "h = 0.1\n",
      "x = linspace(0,1,num=int(1/h+1))\n",
      "\n",
      "for a in [1,-1]:\n",
      "    for y0 in [1,-1]:\n",
      "        y = y0\n",
      "        for i in xrange(10):\n",
      "            y += h*a*y\n",
      "        \n",
      "        print 'for y0={0},a={1}, the sign of global error is {2}'.format(y0,a,sign(y))"
     ],
     "language": "python",
     "metadata": {},
     "outputs": [
      {
       "output_type": "stream",
       "stream": "stdout",
       "text": [
        "for y0=1,a=1, the sign of global error is positive\n",
        "for y0=-1,a=1, the sign of global error is negative\n",
        "for y0=1,a=-1, the sign of global error is positive\n",
        "for y0=-1,a=-1, the sign of global error is negative\n"
       ]
      }
     ],
     "prompt_number": 2
    },
    {
     "cell_type": "heading",
     "level": 2,
     "metadata": {},
     "source": [
      "problem 2"
     ]
    },
    {
     "cell_type": "markdown",
     "metadata": {},
     "source": [
      "find the coefficient $B$ in the midpoint method (1.19)"
     ]
    },
    {
     "cell_type": "heading",
     "level": 3,
     "metadata": {},
     "source": [
      "solution"
     ]
    },
    {
     "cell_type": "markdown",
     "metadata": {},
     "source": [
      "our scheme is written as\n",
      "<center>\n",
      "$$ Y_{i+1} = Y_i + hf(x_i +h/2, Y_i + Bh) .$$\n",
      "</center>\n",
      "to find $B$, we compare the taylor expansion of this scheme and the analytical solution.\n",
      "the taylor series for the numerical scheme is thus\n",
      "$$ Y_{i+1} = Y_i + hf(x_i,Y_i) + \\frac{h^2}{2} f_x (x_i,Y_i) + Bh^2 f_y(x_i,Y_i) + O(h^3) .$$\n",
      "from the notes, the taylor series for the analytical solution is\n",
      "$$ y_{i+1} = y_i + hf(x_i,y_i) + \\frac{h^2}{2} (f_x (x_i,Y_i) + f_y(x_i,Y_i)f(x_i,y_i)) + O(h^3) .$$\n",
      "to compute the local error, assume that $y_i = Y_i$ and subtracting these two equations above, we have\n",
      "$$ \\epsilon _{i+1}  = \\frac{h^2}{2}f_y(x_i,Y_i)f(x_i,y_i) - Bh^2 f_y(x_i,Y_i) + O(h^3) .$$\n",
      "setting $\\epsilon _{i+1} = O(h^3)$ and solving for $B$ we have that\n",
      "$$ B = f(x_i,y_i) / 2.$$"
     ]
    },
    {
     "cell_type": "heading",
     "level": 2,
     "metadata": {},
     "source": [
      "problem 3"
     ]
    },
    {
     "cell_type": "markdown",
     "metadata": {},
     "source": [
      "Derive the expression for the local truncation error of the Midpoint method."
     ]
    },
    {
     "cell_type": "heading",
     "level": 3,
     "metadata": {},
     "source": [
      "solution"
     ]
    },
    {
     "cell_type": "markdown",
     "metadata": {},
     "source": [
      "first, I adopt the notation used in the notes, and write the analytical taylor series as\n",
      "$$ y_{i+1} = y_i + hf + \\frac{h^2}{2} (f_x +ff_y) + \\frac{h^3}{6} (f_{xx} + f_x f_y + 2 f f_{xy} + f (f_y)^2 + f^2 f_{yy} ) + O(h^4) .$$\n",
      "now for the midpoint method, we have\n",
      "$$ Y_{i+1} = Y_i + hf + \\frac{h^2}{2} (f_x +ff_y) + \\frac{h^3}{8} (f_{xx} + 2 f f_{xy} +  f^2 f_{yy} ) + O(h^4) .$$\n",
      "subtracting these two, the error is\n",
      "$$ \\epsilon _{i+1}  = h^3 \\left [ \\left (\\frac{1}{6} - \\frac{1}{8} \\right )  \\left ( f_{xx} + 2ff_{xy} + f^2 f_{yy} \\right ) + \\frac{1}{6} \\left ( f_xf_y + f (f_y)^2 \\right ) \\right ] + O(h^4)$$\n",
      "and simplifying, this is\n",
      "$$ \\epsilon _{i+1}  = h^3 \\left [ \\frac{1}{24}  \\left ( f_{xx} + 2ff_{xy} + f^2 f_{yy} \\right ) + \\frac{1}{6} \\left ( f_xf_y + f (f_y)^2 \\right ) \\right ] + O(h^4).$$ "
     ]
    },
    {
     "cell_type": "heading",
     "level": 2,
     "metadata": {},
     "source": [
      "problem 4"
     ]
    },
    {
     "cell_type": "markdown",
     "metadata": {},
     "source": [
      "Solve the IVP $y' = \\sqrt{y}, y(0) = 1$ for $x\\in [0,1]$ using three methods: simple Euler, modified Euler, and Midpoint.\n",
      "In each case, use two values for the step size: $h = 0.1$ and $h=0.05$.\n",
      "Make a table that shows your numerical error.\n",
      "By what factor does the error decrease when the step size decreases from 0.1 to 0.05?\n",
      "\n",
      "Are you results consistent with the expressions for the the local truncation errors of these three methods? Namely:\n",
      "\n",
      "1. Do the dependencies of theses errors on $h$ agree with the theoretical predictions?\n",
      "\n",
      "2. Does the sign of the error from the simple Euler method agree with that which follows from the derivation in Section 1.3 for this specific $y(x)$?\n",
      "\n",
      "3. Do the signs and relative magnitudes of the errors of the modified Euler and Midpoint methods agree with the result of Sec 1.6 and your result in problem 3?"
     ]
    },
    {
     "cell_type": "heading",
     "level": 3,
     "metadata": {},
     "source": [
      "solution"
     ]
    },
    {
     "cell_type": "code",
     "collapsed": false,
     "input": [
      "truth = ((1.0+2.0)**2)/4.0\n",
      "\n",
      "y0 = 1.0\n",
      "\n",
      "print\n",
      "print '-'*52\n",
      "print '     h         euler       mod euler     midpoint  \\n'\n",
      "print '-'*52\n",
      "\n",
      "# loop over step size\n",
      "for h in [.05,.1]:\n",
      "    x = linspace(0,1,num=int(1/h+1))\n",
      "\n",
      "    print '{0:8.03f} '.format(h),\n",
      "    \n",
      "    # simple euler\n",
      "    y = y0\n",
      "    for i in x[1:]:\n",
      "        y = y+h*sqrt(y)\n",
      "\n",
      "    print'  {0:8.03f}   '.format(truth-y),\n",
      "    \n",
      "    # modified euler\n",
      "    y = y0\n",
      "    for i in x[1:]:\n",
      "        k1 = sqrt(y)\n",
      "        k2 = sqrt(y+h*k1)\n",
      "        y = y + 0.5*h*(k1+k2)\n",
      "    print '   {0:8.05f}  '.format(truth-y),\n",
      "    \n",
      "    # midpoint\n",
      "    y = y0\n",
      "    for i in x[1:]:\n",
      "        k1 = sqrt(y)\n",
      "        k2 = sqrt(y+0.5*h*k1)\n",
      "        # sqrt(y+h*0.5*sqrt(y))\n",
      "        y = y+h*k2\n",
      "    print'   {0:8.05f}  \\n'.format(truth-y)\n",
      "    print '-'*52"
     ],
     "language": "python",
     "metadata": {},
     "outputs": [
      {
       "output_type": "stream",
       "stream": "stdout",
       "text": [
        "\n",
        "----------------------------------------------------\n",
        "     h         euler       mod euler     midpoint  \n",
        "\n",
        "----------------------------------------------------\n",
        "   0.050       0.015        0.00015       0.00008  \n",
        "\n",
        "----------------------------------------------------\n",
        "   0.100       0.030        0.00060       0.00031  \n",
        "\n",
        "----------------------------------------------------\n"
       ]
      }
     ],
     "prompt_number": 11
    },
    {
     "cell_type": "markdown",
     "metadata": {},
     "source": [
      "The errors decrease linearly for the Euler method (a factor of 2) and by a factor of 4 for the second-order methods. This is expected from the accuracy of these schemes.\n",
      "The dependencies on $h$ do agree with the theory.\n",
      "\n",
      "The sign of the error for Simple Euler does agree with section 1.3, since $y_0 > 0$ and $y'' > 0$ would predict an error $>$ 0. Indeed the error is greater than 0.\n",
      "\n",
      "Both errors are positive, and this partially agrees with prediction, since $y_0 > 0$ and $y'' > 0$.\n",
      "The Midpoint method is approximately twice as accurate here, and this relative magnitude of accurarcy increase agrees.\n",
      "Our theory has the coefficient of -1/12 in the error of the ME method, and the coefficient of 1/24 in the Midpoint method, so we would expect this halving of the error seen here.\n",
      "\n",
      "The term with leading 1/6 in both errors is 1/24 for this $y$, and the other term remains with $-1/4 \\cdot \\sqrt{y}$.\n",
      "What does not agree is the sign of the Midpoint error, which we would now expect to be negative, but is positive here."
     ]
    },
    {
     "cell_type": "heading",
     "level": 2,
     "metadata": {},
     "source": [
      "problem 5"
     ]
    },
    {
     "cell_type": "markdown",
     "metadata": {},
     "source": [
      "A skydiver jumps into a fluid that is resistant with direct proportion to his velocity $v$.\n"
     ]
    },
    {
     "cell_type": "heading",
     "level": 3,
     "metadata": {},
     "source": [
      "solution"
     ]
    },
    {
     "cell_type": "markdown",
     "metadata": {},
     "source": [
      "Before his parachute opens to slow him, his velocity follows the ODE:\n",
      "$$ \\frac{dv}{dt} = g - \\frac{k}{m} v .$$\n",
      "Setting the parameters such that his maximum velocity reaches 80 m/s, we solve for $dv/dt = 0$ for his asymptotical terminal velocity.\n",
      "This is solving\n",
      "$$ 0 = 9.8 - 80 \\frac{k}{m}.$$\n",
      "Since there are two unknowns, and one equation, we do not consider mass.\n",
      "This results in $k$ equal to"
     ]
    },
    {
     "cell_type": "code",
     "collapsed": false,
     "input": [
      "g = 9.8\n",
      "k = g/35.76 # that's 80mph in m/s\n",
      "print k"
     ],
     "language": "python",
     "metadata": {},
     "outputs": [
      {
       "output_type": "stream",
       "stream": "stdout",
       "text": [
        "0.274049217002\n"
       ]
      }
     ],
     "prompt_number": 8
    },
    {
     "cell_type": "markdown",
     "metadata": {},
     "source": [
      "and a new ODE\n",
      "$$ \\frac{dv}{dt} = g - k v .$$\n",
      "\n",
      "The analytical solution, solved by separating the ODE into\n",
      "$$ \\frac{dv}{g-kv} = dt $$\n",
      "and integrating to obtain\n",
      "$$ -\\ln (g-kv)/k = t+C $$ \n",
      "and solving for $v$ as\n",
      "$$ v(t) = \\frac{-1}{k}e^{-k(t+C)} + \\frac{g}{k}. $$\n",
      "Using the IC we set $C = -\\ln (g) / k$.\n",
      "This yields the ODE\n",
      "$$ v(t) = \\frac{g}{k}\\left ( -e^{-kt} + 1 \\right ). $$"
     ]
    },
    {
     "cell_type": "code",
     "collapsed": false,
     "input": [
      "h = 0.2\n",
      "c = -log(g)/k\n",
      "y0 = 0.0\n",
      "x = linspace(0,2,num=int(2/h+1))\n",
      "print x\n",
      "# initialize the solutions as vectors\n",
      "yNum = linspace(0,2,num=int(2/h+1))\n",
      "yAnal = linspace(0,2,num=int(2/h+1))\n",
      "\n",
      "def jumperV(t,v,g,k):\n",
      "    return g-v*k\n",
      "\n",
      "# start at 0\n",
      "yNum[0] = y0\n",
      "yAnal[0] = y0\n",
      "for t in xrange(1,len(x)):\n",
      "    k1 = jumperV(t,yNum[t-1],g,k)\n",
      "    k2 = jumperV(t+h,yNum[t-1]+h*k1,g,k)\n",
      "    yNum[t] = yNum[t-1]+h/2*(k1+k2)\n",
      "    yAnal[t] = -g/k*(exp(-k*x[t])-1)\n",
      "print yNum\n",
      "print yAnal"
     ],
     "language": "python",
     "metadata": {},
     "outputs": [
      {
       "output_type": "stream",
       "stream": "stdout",
       "text": [
        "[ 0.   0.2  0.4  0.6  0.8  1.   1.2  1.4  1.6  1.8  2. ]\n",
        "[  0.           1.90628635   3.71095281   5.41941649   7.03680576\n",
        "   8.56797559  10.01752215  11.3897966   12.68891814  13.91878638\n",
        "  15.08309308]\n",
        "[  0.           1.9072544    3.71278566   5.42201918   7.04009097\n",
        "   8.57186314  10.02193846  11.39467423  12.69419534  13.92440667\n",
        "  15.08900487]\n"
       ]
      }
     ],
     "prompt_number": 9
    },
    {
     "cell_type": "code",
     "collapsed": false,
     "input": [
      "%matplotlib inline\n",
      "import matplotlib.pyplot as plt\n",
      "fig = plt.figure()\n",
      "ax1 = fig.add_axes([0.15,0.2,0.7,0.7]) #  [left, bottom, width, height]  \n",
      "\n",
      "ax1.plot(x,yNum,'b')\n",
      "ax1.plot(x,yAnal,'r')\n",
      "ax1.legend(['numerical','analytical'])\n",
      "plt.title('velocity of diver')\n",
      "plt.xlabel('time')\n",
      "plt.ylabel('velocity')\n",
      "plt.show()\n",
      "\n",
      "plt.close(fig)\n",
      "\n",
      "fig = plt.figure()\n",
      "ax1 = fig.add_axes([0.15,0.2,0.7,0.7]) #  [left, bottom, width, height]  \n",
      "\n",
      "ax1.plot(x,abs(yAnal-yNum))\n",
      "plt.title('error of modified Euler, h = {0:g}'.format(h))\n",
      "plt.xlabel('time')\n",
      "plt.ylabel('magnitude of error')\n",
      "plt.show()\n",
      "\n",
      "plt.close(fig)"
     ],
     "language": "python",
     "metadata": {},
     "outputs": [
      {
       "metadata": {},
       "output_type": "display_data",
       "png": "[encoded data removed]",
       "text": [
        "<matplotlib.figure.Figure at 0x11288bbd0>"
       ]
      },
      {
       "metadata": {},
       "output_type": "display_data",
       "png": "[encoded data removed]",
       "text": [
        "<matplotlib.figure.Figure at 0x11347fa50>"
       ]
      }
     ],
     "prompt_number": 10
    }
   ],
   "metadata": {}
  }
 ]
}