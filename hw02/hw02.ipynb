{
 "metadata": {
  "name": ""
 },
 "nbformat": 3,
 "nbformat_minor": 0,
 "worksheets": [
  {
   "cells": [
    {
     "cell_type": "heading",
     "level": 3,
     "metadata": {},
     "source": [
      "Problem 1"
     ]
    },
    {
     "cell_type": "markdown",
     "metadata": {},
     "source": [
      "Derive equation 2.4 following section 1.3"
     ]
    },
    {
     "cell_type": "heading",
     "level": 4,
     "metadata": {},
     "source": [
      "Solution"
     ]
    },
    {
     "cell_type": "markdown",
     "metadata": {},
     "source": [
      "From Section 1.4 of the notes we the Taylor expansion of the analytical solution $y_{i+1}$ as\n",
      "$$ y_{i+1} = y_i + hf(x_i,y_i) + \\frac{h^2}{2} \\left ( f_x (x_i,y_i) + f(x_i,y_i)f_y(x_i,y_i) \\right ) + O(h^3) .$$\n",
      "For the general RK form we have the numerical Taylor expansion is\n",
      "$$ Y_{i+1} = Y_i + (a+b)hf(x_i,Y_i) + bh \\left ( \\alpha h f_x (x_i,Y_i) + \\beta h f(x_i, Y_i) f_y(x_i,Y_i) \\right ) + O(h^3) .$$\n",
      "To find constraints on the coefficients $a,b,\\alpha,\\beta$ we require the local error the have $O(h^3)$.\n",
      "Letting $Y_i = y_i$ we solve for the local error $\\epsilon _{i+1} = y_{i+1} - Y_{i+1}$ and set this equal to the desired $O(h^3)$.\n",
      "This is:\n",
      "\\begin{align*} O(h^3) &= y_i + hf(x_i,y_i) + \\frac{h^2}{2} \\left ( f_x (x_i,y_i) + f(x_i,y_i)f_y(x_i,y_i) \\right ) + O(h^3)\\\\\n",
      "&- Y_i - (a+b)hf(x_i,Y_i) - bh \\left ( \\alpha h f_x (x_i,Y_i) + \\beta h f(x_i, Y_i) f_y(x_i,Y_i) \\right ) - O(h^3) .\\end{align*}\n",
      "Combining the $O(h^3)$ on the RHS, and subtracting this from both sides, and letting $Y_i = y_i$, we have\n",
      "\\begin{align*} 0 &= hf(x_i,y_i) + \\frac{h^2}{2} f_x (x_i,y_i) + \\frac{h^2}{2}f(x_i,y_i)f_y(x_i,y_i) \\\\\n",
      "&- (a+b)hf(x_i,y_i) - b  \\alpha h^2  f_x (x_i,y_i) - b \\beta h^2 f(x_i, y_i) f_y(x_i,y_i).\\end{align*}\n",
      "Grouping terms by the three groups: (1) $f(x_i,y_i)$, (2) $f_x (x_i,y_i)$, and (3) $f(x_i,y_i) f_y (x_i, y_i)$, we have the three systems of equations:\n",
      "\\begin{align*} h - (a+b) h &= 0\\\\\n",
      "\\frac{h^2}{2} - b h^2 \\alpha &= 0\\\\\n",
      "\\frac{h^2}{2} - b h^2 \\beta &= 0\\end{align*}\n",
      "Cancelling $h$'s, this is clearly the form of equation 2.4."
     ]
    },
    {
     "cell_type": "heading",
     "level": 3,
     "metadata": {},
     "source": [
      "Problem 2"
     ]
    },
    {
     "cell_type": "markdown",
     "metadata": {},
     "source": [
      "Write a function implementing the classical runge-kutta scheme, and use this on problem 5 of the previous HW, plotting the error. Compare the final error of the cRK method with the ME of the previous HW."
     ]
    },
    {
     "cell_type": "heading",
     "level": 4,
     "metadata": {},
     "source": [
      "Solution"
     ]
    },
    {
     "cell_type": "markdown",
     "metadata": {},
     "source": [
      "The following code solves this problem in Python. For MATLAB, see the attached printout and emailed file 'prb2.m'."
     ]
    },
    {
     "cell_type": "code",
     "collapsed": false,
     "input": [
      "from numpy import *\n",
      "\n",
      "def my_cRK(func,tspan,y0,h,params):\n",
      "    # set the coefficients\n",
      "    a11,a21,a22,a31,a32,a33 = [0.5,0.0,0.5,0.0,0.0,1.0]\n",
      "    b1,b2,b3,b4 = [1./6.,1./3.,1./3.,1./6.]\n",
      "    c1,c2,c3 = [0.5,0.5,1]\n",
      "    t = tspan[0]\n",
      "    \n",
      "    yvec =  [] #linspace(tspan[0],tspan[-1],num=floor((tspan[-1]-tspan[0])/h))\n",
      "    yvec.append(y0) #[0] = y0\n",
      "    for i in xrange(1,len(tspan)):\n",
      "        k1 = h*func(t,yvec[i-1],params)\n",
      "        k2 = h*func(t+c1*h,yvec[i-1]+a11*k1,params)\n",
      "        k3 = h*func(t+c2*h,yvec[i-1]+a21*k1+a22*k2,params)\n",
      "        k4 = h*func(t+c3*h,yvec[i-1]+a31*k1+a32*k2+a33*k3,params)\n",
      "        yvec.append(yvec[i-1] + b1*k1 + b2*k2 + b3*k3 + b4*k4) #[i] = yvec[i-1] + b1*k1 + b2*k2 + b3*k3 + b4*k4\n",
      "        t += h\n",
      "    return yvec\n",
      "\n",
      "def my_ME(func,tspan,y0,h,params):\n",
      "    yvec = []\n",
      "    yvec.append(y0)\n",
      "    t = tspan[0]\n",
      "    for i in xrange(1,len(tspan)):\n",
      "        k1 = func(t,yvec[i-1],params)\n",
      "        k2 = func(t+h,yvec[i-1]+h*k1,params)\n",
      "        yvec.append(yvec[i-1]+h/2*(k1+k2))\n",
      "        t+=h\n",
      "    return yvec"
     ],
     "language": "python",
     "metadata": {},
     "outputs": [],
     "prompt_number": 5
    },
    {
     "cell_type": "code",
     "collapsed": false,
     "input": [
      "g = 9.8\n",
      "k1 = g/35.76 # that's 80mph in m/s\n",
      "h = 0.2\n",
      "y0 = 0.0\n",
      "x = linspace(0,2,num=int(2/h+1))\n",
      "yAnal = linspace(0,2,num=int(2/h+1))\n",
      "\n",
      "def jumperV(t,v,params):\n",
      "    # params = [g,k]\n",
      "    return params[0]-v*params[1]\n",
      "\n",
      "# use RK4\n",
      "yNumRK4 = my_cRK(jumperV,x,y0,h,[g,k1])\n",
      "# solve analytically\n",
      "for t in xrange(len(x)):\n",
      "    yAnal[t] = -g/k1*(exp(-k1*x[t])-1)\n",
      "# solve with ME    \n",
      "yNumME = my_ME(jumperV,x,y0,h,[g,k1])"
     ],
     "language": "python",
     "metadata": {},
     "outputs": [],
     "prompt_number": 6
    },
    {
     "cell_type": "code",
     "collapsed": false,
     "input": [
      "%matplotlib inline\n",
      "import matplotlib.pyplot as plt\n",
      "fig = plt.figure()\n",
      "ax1 = fig.add_axes([0.15,0.2,0.7,0.7]) #  [left, bottom, width, height]  \n",
      "\n",
      "ax1.plot(x,abs(yAnal-yNumRK4),'r')\n",
      "plt.title('error of cRK, h = {0:g}'.format(h))\n",
      "plt.xlabel('time')\n",
      "plt.ylabel('magnitude of error')\n",
      "plt.show()\n",
      "\n",
      "plt.close(fig)"
     ],
     "language": "python",
     "metadata": {},
     "outputs": [
      {
       "metadata": {},
       "output_type": "display_data",
       "png": "[encoded data removed]",
       "text": [
        "<matplotlib.figure.Figure at 0x10d42efd0>"
       ]
      }
     ],
     "prompt_number": 7
    },
    {
     "cell_type": "code",
     "collapsed": false,
     "input": [
      "error_ME = yAnal[-1]-yNumME[-1]\n",
      "error_RK4 = yAnal[-1]-yNumRK4[-1]\n",
      "print 'final error of ME is {0:.9f}'.format(error_ME)\n",
      "print 'final error of cRK is {0:.9f}'.format(error_RK4)\n",
      "print\n",
      "print 'ratio of cRK/ME is {0:.5f}'.format(error_RK4/error_ME)\n",
      "print h**2\n",
      "print h**4"
     ],
     "language": "python",
     "metadata": {},
     "outputs": [
      {
       "output_type": "stream",
       "stream": "stdout",
       "text": [
        "final error of ME is 0.005911787\n",
        "final error of cRK is 0.000000892\n",
        "\n",
        "ratio of cRK/ME is 0.00015\n",
        "0.04\n",
        "0.0016\n"
       ]
      }
     ],
     "prompt_number": 8
    },
    {
     "cell_type": "heading",
     "level": 3,
     "metadata": {},
     "source": [
      "Problem 3"
     ]
    },
    {
     "cell_type": "markdown",
     "metadata": {},
     "source": [
      "Open the parachute at time $t=2$, with new velocity being 4 mph."
     ]
    },
    {
     "cell_type": "heading",
     "level": 4,
     "metadata": {},
     "source": [
      "Solution"
     ]
    },
    {
     "cell_type": "markdown",
     "metadata": {},
     "source": [
      "Again, the following inline solution uses some Python. The attached MALTAB script 'prb3.m' implements this.\n",
      "\n",
      "The new coefficient $k$ is:"
     ]
    },
    {
     "cell_type": "code",
     "collapsed": false,
     "input": [
      "k2 = g/1.788\n",
      "print k2"
     ],
     "language": "python",
     "metadata": {},
     "outputs": [
      {
       "output_type": "stream",
       "stream": "stdout",
       "text": [
        "5.48098434004\n"
       ]
      }
     ],
     "prompt_number": 9
    },
    {
     "cell_type": "markdown",
     "metadata": {},
     "source": [
      "Define a new function for the ODE:"
     ]
    },
    {
     "cell_type": "code",
     "collapsed": false,
     "input": [
      "def jumperV2(t,v,params):\n",
      "    # params = [g,k1,k2]\n",
      "    if t<2:\n",
      "        return params[0]-v*params[1]\n",
      "    else:\n",
      "        return params[0]-v*params[2]"
     ],
     "language": "python",
     "metadata": {},
     "outputs": [],
     "prompt_number": 10
    },
    {
     "cell_type": "markdown",
     "metadata": {},
     "source": [
      "The new analytical solution for the ODE is the same, but with a different $k$ and hence a different $y0$.\n",
      "Now I'll make a quick plot of that solution (using a finer $h$ to see the behavior):"
     ]
    },
    {
     "cell_type": "code",
     "collapsed": false,
     "input": [
      "x = linspace(0,4,num=21) #int(4/h+1))\n",
      "yAnal = linspace(0,4,num=21) #int(4/h+1))\n",
      "print k2/k1\n",
      "print g - k2*g/k1*(-exp(-k1*2)+1)\n",
      "\n",
      "# solve analytically\n",
      "for i in xrange(len(x)):\n",
      "    t = x[i]\n",
      "    if t<2:\n",
      "        yAnal[i] = -g/k1*(exp(-k1*t)-1)\n",
      "    else:\n",
      "        yAnal[i] = (-exp(-k2*(t-2))*(k2/k1*exp(-2*k1)-k2/k1+1)+1)*g/k2\n",
      "\n",
      "yNumRK4 = my_cRK(jumperV2,x,y0,h,[g,k1,k2])\n",
      "yNumME = my_ME(jumperV2,x,y0,h,[g,k1,k2])\n",
      "\n",
      "fig = plt.figure()\n",
      "ax1 = fig.add_axes([0.15,0.2,0.7,0.7]) #  [left, bottom, width, height]  \n",
      "\n",
      "ax1.plot(x,yAnal,'r')\n",
      "ax1.plot(x,yNumRK4,'b')\n",
      "ax1.plot(x,yNumME,'c')\n",
      "plt.legend([\"analytical\",\"RK4\",\"ME\"])\n",
      "plt.show()\n",
      "plt.close(fig)"
     ],
     "language": "python",
     "metadata": {},
     "outputs": [
      {
       "output_type": "stream",
       "stream": "stdout",
       "text": [
        "20.0\n",
        "-72.9025993903\n"
       ]
      },
      {
       "metadata": {},
       "output_type": "display_data",
       "png": "[encoded data removed]",
       "text": [
        "<matplotlib.figure.Figure at 0x10df97bd0>"
       ]
      }
     ],
     "prompt_number": 11
    },
    {
     "cell_type": "heading",
     "level": 3,
     "metadata": {},
     "source": [
      "Problem 4"
     ]
    },
    {
     "cell_type": "markdown",
     "metadata": {},
     "source": [
      "Code RKF and solve the above using it.\n",
      "\n",
      "The matlab script 'my_RKF.m' implements this function in MATLAB, and the following is reproduced in 'prb4.m'."
     ]
    },
    {
     "cell_type": "heading",
     "level": 4,
     "metadata": {},
     "source": [
      "Solution"
     ]
    },
    {
     "cell_type": "code",
     "collapsed": false,
     "input": [
      "def my_RKF(func,tspan,y0,h,params):\n",
      "    max_error = 10**(-1)*0.44704 # 10^-3 mph in m/s\n",
      "    kappa = 0.8\n",
      "    # accept the tspan, but use only the range of it\n",
      "    t = tspan[0]\n",
      "    # accept h, use it for the first guess\n",
      "    newh = h\n",
      "    # t -= newH\n",
      "    # set the coefficients\n",
      "    a11 = 0.25\n",
      "    a21,a22 = [3./32.,9./32.]\n",
      "    a31,a32,a33 = [1932./2197.,-7200./2197.,7296./2197.]\n",
      "    a41,a42,a43,a44 = [439./216.,-8.,3680./513.,-845./4104.]\n",
      "    a51,a52,a53,a54,a55 = [-8./27.,2.0,-3544./2565.,1859./4104.,-11./40.]\n",
      "    b41,b42,b43,b44,b45,b46 = [25./216,0.0,1408./2565.,2197./4104.,-1./5.,0.0]\n",
      "    b51,b52,b53,b54,b55,b56 = [16./135.,0.0,6656./12825.,28561./56430.,-9./50.,2./55.]\n",
      "    c1,c2,c3,c4,c5 = [0.25,3./8.,12./13.,1.0,0.5]\n",
      "    yvec =  [] #linspace(tspan[0],tspan[-1],num=floor((tspan[-1]-tspan[0])/h))\n",
      "    yvec.append(y0) #[0] = y0\n",
      "    tvec =  [] #linspace(tspan[0],tspan[-1],num=floor((tspan[-1]-tspan[0])/h))\n",
      "    tvec.append(t) #[0] = y0\n",
      "    \n",
      "    # for i in xrange(1,len(tspan)):\n",
      "    while t<tspan[-1]:\n",
      "\n",
      "        \n",
      "        k1 = newh*func(t,yvec[-1],params)\n",
      "        k2 = newh*func(t+c1*newh,yvec[-1]+a11*k1,params)\n",
      "        k3 = newh*func(t+c2*newh,yvec[-1]+a21*k1+a22*k2,params)\n",
      "        k4 = newh*func(t+c3*newh,yvec[-1]+a31*k1+a32*k2+a33*k3,params)\n",
      "        k5 = newh*func(t+c4*newh,yvec[-1]+a41*k1+a42*k2+a43*k3+a44*k4,params)\n",
      "        k6 = newh*func(t+c5*newh,yvec[-1]+a51*k1+a52*k2+a53*k3+a54*k4+a55*k5,params)\n",
      "        y4 = yvec[-1] + b41*k1 + b42*k2 + b43*k3 + b44*k4 + b45*k5 + b46*k6\n",
      "        y5 = yvec[-1] + b51*k1 + b52*k2 + b53*k3 + b54*k4 + b55*k5 + b56*k6\n",
      "        \n",
      "        error_guess = abs(y5-y4)\n",
      "        if error_guess < max_error:\n",
      "            t += newh\n",
      "            tvec.append(t)\n",
      "            yvec.append(y5)\n",
      "        else:\n",
      "            if newh < 10**(-5):\n",
      "                tvec.append(t)\n",
      "                yvec.append(y5)\n",
      "            else:\n",
      "                newh = newh*kappa*((max_error/error_guess)**(1/(4+1)))\n",
      "\n",
      "    return yvec,tvec"
     ],
     "language": "python",
     "metadata": {},
     "outputs": [],
     "prompt_number": 14
    },
    {
     "cell_type": "code",
     "collapsed": false,
     "input": [
      "yNumRKF,tNumRKF = my_RKF(jumperV2,x,y0,h,[g,k1,k2])\n",
      "\n",
      "\n",
      "# solve analytically on new time grid\n",
      "yAnal = []\n",
      "for i in xrange(len(tNumRKF)):\n",
      "    t = tNumRKF[i]\n",
      "    if t<2:\n",
      "        yAnal.append(-g/k1*(exp(-k1*t)-1))\n",
      "    else:\n",
      "        yAnal.append((-exp(-k2*(t-2))*(k2/k1*exp(-2*k1)-k2/k1+1)+1)*g/k2)\n",
      "\n",
      "fig = plt.figure()\n",
      "ax1 = fig.add_axes([0.15,0.2,0.7,0.7]) #  [left, bottom, width, height]  \n",
      "\n",
      "ax1.plot(tNumRKF,yAnal,'r')\n",
      "ax1.plot(tNumRKF,yNumRKF,'b')\n",
      "plt.legend([\"analytical\",\"RKF\"])\n",
      "plt.show()\n",
      "plt.close(fig)"
     ],
     "language": "python",
     "metadata": {},
     "outputs": [
      {
       "metadata": {},
       "output_type": "display_data",
       "png": "[encoded data removed]",
       "text": [
        "<matplotlib.figure.Figure at 0x10dfb9990>"
       ]
      }
     ],
     "prompt_number": 15
    },
    {
     "cell_type": "code",
     "collapsed": false,
     "input": [
      "tNumRKF[0]"
     ],
     "language": "python",
     "metadata": {},
     "outputs": [
      {
       "metadata": {},
       "output_type": "pyout",
       "prompt_number": 37,
       "text": [
        "-0.20000000000000001"
       ]
      }
     ],
     "prompt_number": 37
    },
    {
     "cell_type": "heading",
     "level": 3,
     "metadata": {},
     "source": [
      "Problem 5"
     ]
    },
    {
     "cell_type": "markdown",
     "metadata": {},
     "source": [
      "Solve problem 3 using MATLAB's built in ode45. Plot the analytical and numerical solution."
     ]
    },
    {
     "cell_type": "heading",
     "level": 4,
     "metadata": {},
     "source": [
      "Solution"
     ]
    },
    {
     "cell_type": "markdown",
     "metadata": {},
     "source": [
      "The solution was run in MATLAB and saved as a CSV. We load it and make the plots."
     ]
    },
    {
     "cell_type": "code",
     "collapsed": false,
     "input": [
      "!!/Applications/MATLAB_R2013a.app/bin/matlab -nodesktop -nosplash -r /Users/andyreagan/class/2014/fall/math337/hw02/prb5.m"
     ],
     "language": "python",
     "metadata": {},
     "outputs": [
      {
       "metadata": {},
       "output_type": "pyout",
       "prompt_number": 18,
       "text": [
        "['',\n",
        " '                            < M A T L A B (R) >',\n",
        " '                  Copyright 1984-2013 The MathWorks, Inc.',\n",
        " '                     R2013a (8.1.0.604) 64-bit (maci64)',\n",
        " '                             February 15, 2013',\n",
        " '',\n",
        " ' ',\n",
        " 'To get started, type one of these: helpwin, helpdesk, or demo.',\n",
        " 'For product information, visit www.mathworks.com.',\n",
        " ' ',\n",
        " ' /Users/andyreagan/class/2014/fall/math337/hw02/prb5.m',\n",
        " ' |',\n",
        " '{\\x08Error: Unexpected MATLAB operator.',\n",
        " '}\\x08 ',\n",
        " '>> ']"
       ]
      }
     ],
     "prompt_number": 18
    },
    {
     "cell_type": "heading",
     "level": 3,
     "metadata": {},
     "source": [
      "Problem 6"
     ]
    },
    {
     "cell_type": "markdown",
     "metadata": {},
     "source": [
      "Plot all of the errors on the same plot (3-5)"
     ]
    },
    {
     "cell_type": "heading",
     "level": 4,
     "metadata": {},
     "source": [
      "Solution"
     ]
    },
    {
     "cell_type": "markdown",
     "metadata": {},
     "source": [
      "If the previous MATLAB scripts, prb[3-5].m, have been executed, then prb6.m makes this plot. Otherwise, run those script to load the errors in the local namespace."
     ]
    },
    {
     "cell_type": "code",
     "collapsed": false,
     "input": [
      "!!matlab -r prb5.m"
     ],
     "language": "python",
     "metadata": {},
     "outputs": [],
     "prompt_number": 68
    },
    {
     "cell_type": "code",
     "collapsed": false,
     "input": [],
     "language": "python",
     "metadata": {},
     "outputs": [],
     "prompt_number": 68
    },
    {
     "cell_type": "code",
     "collapsed": false,
     "input": [
      "# %magic\n",
      "# alias\n",
      "!!ipython nbconvert --to latex hw02.ipynb"
     ],
     "language": "python",
     "metadata": {},
     "outputs": [
      {
       "metadata": {},
       "output_type": "pyout",
       "prompt_number": 68,
       "text": [
        "[\"[NbConvertApp] Using existing profile dir: u'/Users/andyreagan/.ipython/profile_default'\",\n",
        " '[NbConvertApp] Converting notebook hw02.ipynb to latex',\n",
        " '[NbConvertApp] Support files will be in hw02_files/',\n",
        " '[NbConvertApp] Loaded template latex_article.tplx',\n",
        " '[NbConvertApp] Making directory hw02_files',\n",
        " '[NbConvertApp] Writing 36068 bytes to hw02.tex']"
       ]
      }
     ],
     "prompt_number": 68
    },
    {
     "cell_type": "code",
     "collapsed": false,
     "input": [],
     "language": "python",
     "metadata": {},
     "outputs": []
    }
   ],
   "metadata": {}
  }
 ]
}